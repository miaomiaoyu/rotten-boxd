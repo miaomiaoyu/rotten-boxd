{
 "cells": [
  {
   "cell_type": "code",
   "execution_count": 11,
   "metadata": {},
   "outputs": [
    {
     "name": "stdout",
     "output_type": "stream",
     "text": [
      "Rotten Tomatoes Rating: 83%\n",
      "Letterboxd URL: https://letterboxd.com/film/midsommar\n"
     ]
    }
   ],
   "source": [
    "import os\n",
    "import requests\n",
    "from urllib.parse import quote\n",
    "from dotenv import load_dotenv\n",
    "\n",
    "load_dotenv()\n",
    "\n",
    "# OMDB API key\n",
    "OMDB_API_KEY = os.environ.get(\"OMDB_API_KEY\")\n",
    "\n",
    "def get_rotten_tomatoes_rating(movie_name):\n",
    "    \"\"\"Fetch Rotten Tomatoes ratings from OMDB API.\"\"\"\n",
    "    url = f\"http://www.omdbapi.com/?apikey={OMDB_API_KEY}&t={quote(movie_name)}\"\n",
    "    response = requests.get(url)\n",
    "    if response.status_code != 200:\n",
    "        return None, \"Failed to fetch data from OMDB API\"\n",
    "    \n",
    "    data = response.json()\n",
    "    if data.get(\"Response\") == \"False\":\n",
    "        return None, \"Movie not found\", data\n",
    "    \n",
    "    # Extract Rotten Tomatoes rating\n",
    "    ratings = data.get(\"Ratings\", [])\n",
    "    for rating in ratings:\n",
    "        if rating[\"Source\"] == \"Rotten Tomatoes\":\n",
    "            return rating[\"Value\"], None, data\n",
    "    \n",
    "    return None, \"Rotten Tomatoes rating not found\", data\n",
    "\n",
    "def get_letterboxd_url(movie_name):\n",
    "    \"\"\"Generate Letterboxd URL for a movie.\"\"\"\n",
    "    base_url = \"https://letterboxd.com/film/\"\n",
    "    formatted_name = movie_name.lower().replace(\" \", \"-\")  # Simple formatting\n",
    "    return base_url + quote(formatted_name)\n",
    "\n",
    "def main():\n",
    "    # Get movie name from user\n",
    "    movie_name = input(\"Enter the movie name: \")\n",
    "    \n",
    "    # Get Rotten Tomatoes rating\n",
    "    rt_rating, error, data = get_rotten_tomatoes_rating(movie_name)\n",
    "    if error:\n",
    "        print(f\"Error fetching Rotten Tomatoes rating: {error}\")\n",
    "    else:\n",
    "        print(f\"Rotten Tomatoes Rating: {rt_rating}\")\n",
    "    \n",
    "    # Get Letterboxd URL\n",
    "    letterboxd_url = get_letterboxd_url(movie_name)\n",
    "    print(f\"Letterboxd URL: {letterboxd_url}\")\n",
    "    return data\n",
    "#if __name__ == \"__main__\":\n",
    "data = main()"
   ]
  },
  {
   "cell_type": "code",
   "execution_count": 15,
   "metadata": {},
   "outputs": [
    {
     "data": {
      "text/html": [
       "<img src=\"https://m.media-amazon.com/images/M/MV5BMzQxNzQzOTQwM15BMl5BanBnXkFtZTgwMDQ2NTcwODM@._V1_SX300.jpg\" width=\"100\"/>"
      ],
      "text/plain": [
       "<IPython.core.display.Image object>"
      ]
     },
     "execution_count": 15,
     "metadata": {},
     "output_type": "execute_result"
    }
   ],
   "source": [
    "from IPython.display import Image\n",
    "from IPython.core.display import HTML\n",
    "\n",
    "jpg = data['Poster']\n",
    "Image(url=jpg, width=100)"
   ]
  }
 ],
 "metadata": {
  "kernelspec": {
   "display_name": "Python 3",
   "language": "python",
   "name": "python3"
  },
  "language_info": {
   "codemirror_mode": {
    "name": "ipython",
    "version": 3
   },
   "file_extension": ".py",
   "mimetype": "text/x-python",
   "name": "python",
   "nbconvert_exporter": "python",
   "pygments_lexer": "ipython3",
   "version": "3.9.6"
  }
 },
 "nbformat": 4,
 "nbformat_minor": 2
}
